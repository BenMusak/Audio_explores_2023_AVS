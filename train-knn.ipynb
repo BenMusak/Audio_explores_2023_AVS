{
 "cells": [
  {
   "cell_type": "code",
   "execution_count": 1,
   "metadata": {},
   "outputs": [],
   "source": [
    "import dataset_KNN as ds\n",
    "import KNN as knn"
   ]
  },
  {
   "cell_type": "code",
   "execution_count": 2,
   "metadata": {},
   "outputs": [
    {
     "name": "stdout",
     "output_type": "stream",
     "text": [
      "Loading the dataset...\n",
      "Converting to MFCCs...\n",
      "Splitting the dataset...\n",
      "Training samples: 42312\n",
      "Validation samples: 5289\n",
      "Test samples: 5289\n"
     ]
    }
   ],
   "source": [
    "train_x, train_y, test_x, test_y = ds.test_model_dataset(r\"E:\\Dokumenter\\Competition\\training.npy\", r\"E:\\Dokumenter\\Competition\\training_labels.npy\", 0.8, 0.1, 0.1)"
   ]
  },
  {
   "cell_type": "code",
   "execution_count": 4,
   "metadata": {},
   "outputs": [
    {
     "name": "stdout",
     "output_type": "stream",
     "text": [
      "Shape: (42312, 60)\n",
      "Observation: \n",
      "[ 1.46350503e+00  1.94536066e+00  1.66745877e+00  1.39946330e+00\n",
      "  1.20100212e+00  1.02187097e+00  8.10496330e-01  5.67342043e-01\n",
      "  3.11904609e-01  5.46700098e-02 -1.98847979e-01 -4.50134337e-01\n",
      " -7.04382598e-01 -9.48810279e-01 -1.14604712e+00 -1.25675094e+00\n",
      " -1.26941919e+00 -1.20145273e+00 -1.08667016e+00 -9.68396902e-01\n",
      " -1.81064457e-01 -2.30971724e-01 -1.77390009e-01 -1.33749962e-01\n",
      " -1.15734160e-01 -1.09879784e-01 -9.70393941e-02 -7.18533695e-02\n",
      " -4.12185416e-02 -1.35326786e-02  8.93968716e-03  3.17675583e-02\n",
      "  6.14161938e-02  9.61451530e-02  1.26288831e-01  1.42247528e-01\n",
      "  1.41846433e-01  1.29317969e-01  1.11467317e-01  9.63386223e-02\n",
      "  9.64540243e-03  8.42854381e-03 -2.24174559e-03 -8.56799167e-03\n",
      " -5.27691096e-03  3.27258185e-03  8.12096149e-03  5.56981005e-03\n",
      "  1.40297692e-04 -1.90887833e-03  5.13602281e-04  3.65827931e-03\n",
      "  4.25633229e-03  2.38031615e-03 -8.32919031e-05 -1.33607164e-03\n",
      " -7.81200826e-04  9.13074240e-04  2.60262005e-03  3.37688997e-03]\n",
      "Labels: [0 0 1 ... 1 0 4]\n",
      "Scaling the data...\n",
      "Training the model...\n",
      "Model Score: 0.6823596142938173\n",
      "Confusion Matrix: \n",
      "[[1069  314  235  175   47]\n",
      " [ 242 2338  138  143   72]\n",
      " [  75   54   82   24   12]\n",
      " [  61   63    6   80    3]\n",
      " [   6    7    2    1   40]]\n"
     ]
    }
   ],
   "source": [
    "# Run the KNN model on the dataset\n",
    "knn.knn_model(train_x, test_x, train_y, test_y)"
   ]
  }
 ],
 "metadata": {
  "kernelspec": {
   "display_name": "Python 3",
   "language": "python",
   "name": "python3"
  },
  "language_info": {
   "codemirror_mode": {
    "name": "ipython",
    "version": 3
   },
   "file_extension": ".py",
   "mimetype": "text/x-python",
   "name": "python",
   "nbconvert_exporter": "python",
   "pygments_lexer": "ipython3",
   "version": "3.8.5"
  },
  "orig_nbformat": 4,
  "vscode": {
   "interpreter": {
    "hash": "80c7eac9f559bab76bdfe243e16e71f976d1e7bb284455c089e9c8cded593359"
   }
  }
 },
 "nbformat": 4,
 "nbformat_minor": 2
}
