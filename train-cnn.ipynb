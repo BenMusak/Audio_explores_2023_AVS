{
 "cells": [
  {
   "cell_type": "code",
   "execution_count": 1,
   "metadata": {},
   "outputs": [],
   "source": [
    "import os\n",
    "import numpy as np\n",
    "import torch\n",
    "import torch.nn as nn\n",
    "import torch.optim as optim\n",
    "import torchvision.transforms as transforms\n",
    "from torch.utils.data import DataLoader\n",
    "import pytorch_lightning as pl\n",
    "from pytorch_lightning import Trainer, loggers\n",
    "from pytorch_lightning.callbacks import ModelCheckpoint\n",
    "import torchmetrics\n",
    "from sklearn.model_selection import train_test_split\n",
    "from torchsummary import summary\n",
    "\n",
    "from dataset import SpectrogramDataset\n",
    "from utils import plot_confusion_matrix"
   ]
  },
  {
   "cell_type": "code",
   "execution_count": 2,
   "metadata": {},
   "outputs": [],
   "source": [
    "class CNNClassifier(pl.LightningModule):\n",
    "    def __init__(self, classes):\n",
    "        super(CNNClassifier, self).__init__()\n",
    "        \n",
    "        self.classes = classes\n",
    "        num_classes = len(classes)\n",
    "        \n",
    "        self.conv1 = nn.Conv2d(1, 16, kernel_size=3, stride=1, padding=1)\n",
    "        self.conv2 = nn.Conv2d(16, 32, kernel_size=3, stride=1, padding=1)\n",
    "        self.conv3 = nn.Conv2d(32, 64, kernel_size=3, stride=1, padding=1)\n",
    "        self.conv4 = nn.Conv2d(64, 128, kernel_size=3, stride=1, padding=1)\n",
    "        \n",
    "        self.maxpool = nn.MaxPool2d(kernel_size=2)\n",
    "        \n",
    "        self.fc1 = nn.Linear(128 * 2 * 6, 256)\n",
    "        self.fc2 = nn.Linear(256, num_classes)\n",
    "        \n",
    "        self.relu = nn.ReLU()\n",
    "        \n",
    "        self.criterion = nn.CrossEntropyLoss()\n",
    "        self.confusion_matrix = torchmetrics.ConfusionMatrix(num_classes=num_classes, task='multiclass')\n",
    "        \n",
    "        self.test_confusion_matrix = np.zeros((num_classes, num_classes))\n",
    "        \n",
    "        \n",
    "    def forward(self, x):\n",
    "        x = self.relu(self.conv1(x))\n",
    "        x = self.maxpool(x)\n",
    "        x = self.relu(self.conv2(x))\n",
    "        x = self.maxpool(x)\n",
    "        x = self.relu(self.conv3(x))\n",
    "        x = self.maxpool(x)\n",
    "        x = self.relu(self.conv4(x))\n",
    "        x = self.maxpool(x)\n",
    "        \n",
    "        x = x.view(-1, 128 * 2 * 6)\n",
    "        \n",
    "        x = self.relu(self.fc1(x))\n",
    "        x = self.fc2(x)\n",
    "        return x\n",
    "\n",
    "    def training_step(self, batch, batch_idx):\n",
    "        x, y = batch\n",
    "        y_hat = self(x)\n",
    "        \n",
    "        loss = self.criterion(y_hat, y)\n",
    "        self.log('train_loss', loss)\n",
    "        \n",
    "        _, predicted = torch.max(y_hat, 1)\n",
    "        accuracy = (predicted == y).sum().item() / len(y)\n",
    "        self.log('train_acc', accuracy, prog_bar=True)\n",
    "        \n",
    "        return loss\n",
    "\n",
    "    def validation_step(self, batch, batch_idx):\n",
    "        x, y = batch\n",
    "        y_hat = self(x)\n",
    "        \n",
    "        loss = self.criterion(y_hat, y)\n",
    "        self.log('val_loss', loss)\n",
    "        \n",
    "        _, predicted = torch.max(y_hat, 1)\n",
    "        accuracy = (predicted == y).sum().item() / len(y)\n",
    "        self.log('val_acc', accuracy)\n",
    "    \n",
    "    def test_step(self, batch, batch_idx):\n",
    "        x, y = batch\n",
    "        y_hat = self(x)\n",
    "        \n",
    "        loss = self.criterion(y_hat, y)\n",
    "        self.log('test_loss', loss)\n",
    "        \n",
    "        _, predicted = torch.max(y_hat, 1)\n",
    "        accuracy = (predicted == y).sum().item() / len(y)\n",
    "        self.log('test_acc', accuracy)\n",
    "        \n",
    "        confusion_matrix = self.confusion_matrix(predicted, y)\n",
    "        self.test_confusion_matrix += confusion_matrix.cpu().numpy()\n",
    "        \n",
    "    def test_epoch_end(self, outputs):\n",
    "        plot_confusion_matrix(self.test_confusion_matrix, self.classes, filename='confusion_matrix.png')\n",
    "        \n",
    "    def predict_step(self, batch, batch_idx, dataloader_idx=None):\n",
    "        x = batch\n",
    "        y_hat = self(x)\n",
    "        \n",
    "        _, predicted = torch.max(y_hat, 1)\n",
    "        return predicted\n",
    "\n",
    "    def configure_optimizers(self):\n",
    "        optimizer = optim.Adam(self.parameters(), lr=0.001)\n",
    "        return optimizer"
   ]
  },
  {
   "cell_type": "code",
   "execution_count": 3,
   "metadata": {},
   "outputs": [
    {
     "name": "stdout",
     "output_type": "stream",
     "text": [
      "Spectrogram shape: (52890, 32, 96)\n",
      "Labels shape: (52890,)\n",
      "Spectrogram dtype: float32\n"
     ]
    }
   ],
   "source": [
    "spectrograms = np.load('data/training.npy')\n",
    "labels = np.load('data/training_labels.npy')\n",
    "\n",
    "print('Spectrogram shape:', spectrograms.shape)\n",
    "print('Labels shape:', labels.shape)\n",
    "\n",
    "print('Spectrogram dtype:', spectrograms.dtype)"
   ]
  },
  {
   "cell_type": "code",
   "execution_count": 4,
   "metadata": {},
   "outputs": [
    {
     "name": "stdout",
     "output_type": "stream",
     "text": [
      "Training samples: 42312\n",
      "Validation samples: 5289\n",
      "Test samples: 5289\n"
     ]
    }
   ],
   "source": [
    "TRAINING_RATIO = 0.8\n",
    "VALIDATION_RATIO = 0.1\n",
    "TEST_RATIO = 0.1\n",
    "\n",
    "if TRAINING_RATIO + VALIDATION_RATIO + TEST_RATIO != 1:\n",
    "    raise ValueError('Training, validation, and test ratios must sum to 1.')\n",
    "\n",
    "train_size = int(TRAINING_RATIO * len(spectrograms))\n",
    "val_size = int(VALIDATION_RATIO * len(spectrograms))\n",
    "test_size = len(spectrograms) - train_size - val_size\n",
    "\n",
    "train_spectrograms, val_spectrograms, train_labels, val_labels = train_test_split(spectrograms, labels, test_size=val_size, random_state=42)\n",
    "train_spectrograms, test_spectrograms, train_labels, test_labels = train_test_split(train_spectrograms, train_labels, test_size=test_size, random_state=42)\n",
    "\n",
    "print('Training samples:', train_spectrograms.shape[0])\n",
    "print('Validation samples:', val_spectrograms.shape[0])\n",
    "print('Test samples:', test_spectrograms.shape[0])"
   ]
  },
  {
   "cell_type": "code",
   "execution_count": 5,
   "metadata": {},
   "outputs": [],
   "source": [
    "# Define data transforms for data augmentation\n",
    "transform = transforms.Compose([\n",
    "    transforms.ToTensor(),\n",
    "    # Add more transforms here\n",
    "])"
   ]
  },
  {
   "cell_type": "code",
   "execution_count": 6,
   "metadata": {},
   "outputs": [],
   "source": [
    "BATCH_SIZE = 32\n",
    "NUM_WORKERS = 4\n",
    "\n",
    "# Create datasets and dataloaders\n",
    "train_dataset = SpectrogramDataset(train_spectrograms, train_labels, transform=transform)\n",
    "val_dataset = SpectrogramDataset(val_spectrograms, val_labels, transform=transforms.ToTensor())\n",
    "test_dataset = SpectrogramDataset(test_spectrograms, test_labels, transform=transforms.ToTensor())\n",
    "\n",
    "train_loader = DataLoader(train_dataset, batch_size=BATCH_SIZE, shuffle=True, num_workers=NUM_WORKERS)\n",
    "val_loader = DataLoader(val_dataset, batch_size=BATCH_SIZE, shuffle=False, num_workers=NUM_WORKERS)\n",
    "test_loader = DataLoader(test_dataset, batch_size=BATCH_SIZE, shuffle=False, num_workers=NUM_WORKERS)"
   ]
  },
  {
   "cell_type": "code",
   "execution_count": 7,
   "metadata": {},
   "outputs": [
    {
     "name": "stdout",
     "output_type": "stream",
     "text": [
      "----------------------------------------------------------------\n",
      "        Layer (type)               Output Shape         Param #\n",
      "================================================================\n",
      "            Conv2d-1           [-1, 16, 32, 96]             160\n",
      "              ReLU-2           [-1, 16, 32, 96]               0\n",
      "         MaxPool2d-3           [-1, 16, 16, 48]               0\n",
      "            Conv2d-4           [-1, 32, 16, 48]           4,640\n",
      "              ReLU-5           [-1, 32, 16, 48]               0\n",
      "         MaxPool2d-6            [-1, 32, 8, 24]               0\n",
      "            Conv2d-7            [-1, 64, 8, 24]          18,496\n",
      "              ReLU-8            [-1, 64, 8, 24]               0\n",
      "         MaxPool2d-9            [-1, 64, 4, 12]               0\n",
      "           Conv2d-10           [-1, 128, 4, 12]          73,856\n",
      "             ReLU-11           [-1, 128, 4, 12]               0\n",
      "        MaxPool2d-12            [-1, 128, 2, 6]               0\n",
      "           Linear-13                  [-1, 256]         393,472\n",
      "             ReLU-14                  [-1, 256]               0\n",
      "           Linear-15                    [-1, 5]           1,285\n",
      "================================================================\n",
      "Total params: 491,909\n",
      "Trainable params: 491,909\n",
      "Non-trainable params: 0\n",
      "----------------------------------------------------------------\n",
      "Input size (MB): 0.01\n",
      "Forward/backward pass size (MB): 1.59\n",
      "Params size (MB): 1.88\n",
      "Estimated Total Size (MB): 3.47\n",
      "----------------------------------------------------------------\n"
     ]
    }
   ],
   "source": [
    "CLASSES = ['Other', 'Music', 'Human voice', 'Engine sounds', 'Alarm']\n",
    "\n",
    "model = CNNClassifier(classes=CLASSES)\n",
    "\n",
    "summary(model, (1, 32, 96))"
   ]
  },
  {
   "cell_type": "code",
   "execution_count": 8,
   "metadata": {},
   "outputs": [
    {
     "name": "stderr",
     "output_type": "stream",
     "text": [
      "GPU available: True (mps), used: False\n",
      "TPU available: False, using: 0 TPU cores\n",
      "IPU available: False, using: 0 IPUs\n",
      "HPU available: False, using: 0 HPUs\n"
     ]
    }
   ],
   "source": [
    "MAX_EPOCHS = 30\n",
    "VERSION = 'cnn_v2_epoch-30-v2'\n",
    "\n",
    "accelerator = None\n",
    "if torch.cuda.is_available():\n",
    "    accelerator = 'gpu'\n",
    "elif torch.backends.mps.is_available():\n",
    "    accelerator = 'cpu'  # MPS is not implemented in PyTorch yet\n",
    "\n",
    "tb_logger = loggers.TensorBoardLogger('.', version=VERSION)\n",
    "checkpoint_callback = ModelCheckpoint(monitor='val_acc', mode='max', save_top_k=1, save_last=True, filename='best-{epoch}-{val_acc:.2f}')\n",
    "\n",
    "trainer = Trainer(accelerator=accelerator, max_epochs=MAX_EPOCHS, logger=tb_logger, callbacks=[checkpoint_callback])"
   ]
  },
  {
   "cell_type": "code",
   "execution_count": 9,
   "metadata": {},
   "outputs": [
    {
     "name": "stderr",
     "output_type": "stream",
     "text": [
      "\n",
      "  | Name             | Type                      | Params\n",
      "---------------------------------------------------------------\n",
      "0 | conv1            | Conv2d                    | 160   \n",
      "1 | conv2            | Conv2d                    | 4.6 K \n",
      "2 | conv3            | Conv2d                    | 18.5 K\n",
      "3 | conv4            | Conv2d                    | 73.9 K\n",
      "4 | relu             | ReLU                      | 0     \n",
      "5 | maxpool          | MaxPool2d                 | 0     \n",
      "6 | fc1              | Linear                    | 393 K \n",
      "7 | fc2              | Linear                    | 1.3 K \n",
      "8 | criterion        | CrossEntropyLoss          | 0     \n",
      "9 | confusion_matrix | MulticlassConfusionMatrix | 0     \n",
      "---------------------------------------------------------------\n",
      "491 K     Trainable params\n",
      "0         Non-trainable params\n",
      "491 K     Total params\n",
      "1.968     Total estimated model params size (MB)\n"
     ]
    },
    {
     "data": {
      "application/vnd.jupyter.widget-view+json": {
       "model_id": "3cdc01007d3f46dd96442c122c1c928b",
       "version_major": 2,
       "version_minor": 0
      },
      "text/plain": [
       "Training: 0it [00:00, ?it/s]"
      ]
     },
     "metadata": {},
     "output_type": "display_data"
    },
    {
     "name": "stderr",
     "output_type": "stream",
     "text": [
      "`Trainer.fit` stopped: `max_epochs=30` reached.\n"
     ]
    }
   ],
   "source": [
    "trainer.fit(model, train_loader, val_loader)"
   ]
  },
  {
   "cell_type": "code",
   "execution_count": 11,
   "metadata": {},
   "outputs": [
    {
     "name": "stdout",
     "output_type": "stream",
     "text": [
      "Model size: 5.918994 MB\n"
     ]
    }
   ],
   "source": [
    "# Load previously trained model\n",
    "CHECKPOINT_PATH = f'lightning_logs/{VERSION}/checkpoints/best-epoch=7-val_acc=0.87.ckpt'\n",
    "\n",
    "model = CNNClassifier.load_from_checkpoint(CHECKPOINT_PATH, classes=CLASSES)\n",
    "print(f'Model size: {os.path.getsize(CHECKPOINT_PATH) / 1e6} MB')"
   ]
  },
  {
   "cell_type": "code",
   "execution_count": 12,
   "metadata": {},
   "outputs": [
    {
     "data": {
      "application/vnd.jupyter.widget-view+json": {
       "model_id": "08a56e6f2b934358a8d5686324e77d62",
       "version_major": 2,
       "version_minor": 0
      },
      "text/plain": [
       "Testing: 0it [00:00, ?it/s]"
      ]
     },
     "metadata": {},
     "output_type": "display_data"
    },
    {
     "data": {
      "image/png": "[encoded data removed]",
      "text/plain": [
       "<Figure size 432x504 with 2 Axes>"
      ]
     },
     "metadata": {
      "needs_background": "light"
     },
     "output_type": "display_data"
    },
    {
     "name": "stdout",
     "output_type": "stream",
     "text": [
      "────────────────────────────────────────────────────────────────────────────────────────────────────────────────────────\n",
      "       Test metric             DataLoader 0\n",
      "────────────────────────────────────────────────────────────────────────────────────────────────────────────────────────\n",
      "        test_acc            0.8776706457138062\n",
      "        test_loss           0.34933510422706604\n",
      "────────────────────────────────────────────────────────────────────────────────────────────────────────────────────────\n"
     ]
    },
    {
     "data": {
      "text/plain": [
       "[{'test_loss': 0.34933510422706604, 'test_acc': 0.8776706457138062}]"
      ]
     },
     "execution_count": 12,
     "metadata": {},
     "output_type": "execute_result"
    }
   ],
   "source": [
    "trainer.test(model, test_loader) # This not the challenge, test set"
   ]
  },
  {
   "cell_type": "code",
   "execution_count": 13,
   "metadata": {},
   "outputs": [
    {
     "name": "stdout",
     "output_type": "stream",
     "text": [
      "Test spectrogram to predict shape: (5347, 32, 96)\n",
      "Test spectrogram to predict dtype: float32\n"
     ]
    }
   ],
   "source": [
    "spectrograms_to_predict = np.load('data/test.npy')\n",
    "\n",
    "print('Test spectrogram to predict shape:', spectrograms_to_predict.shape)\n",
    "print('Test spectrogram to predict dtype:', spectrograms_to_predict.dtype)"
   ]
  },
  {
   "cell_type": "code",
   "execution_count": 14,
   "metadata": {},
   "outputs": [],
   "source": [
    "test_to_predict_dataset = SpectrogramDataset(spectrograms_to_predict, transform=transforms.ToTensor())\n",
    "test_to_predict_loader = DataLoader(test_to_predict_dataset, batch_size=BATCH_SIZE, shuffle=False, num_workers=NUM_WORKERS)"
   ]
  },
  {
   "cell_type": "code",
   "execution_count": 15,
   "metadata": {},
   "outputs": [
    {
     "data": {
      "application/vnd.jupyter.widget-view+json": {
       "model_id": "ef451941aad24564bc05d55b06c5adf1",
       "version_major": 2,
       "version_minor": 0
      },
      "text/plain": [
       "Predicting: 1323it [00:00, ?it/s]"
      ]
     },
     "metadata": {},
     "output_type": "display_data"
    }
   ],
   "source": [
    "predictions = trainer.predict(model, test_to_predict_loader)\n",
    "predictions = np.concatenate(predictions).astype(int)"
   ]
  },
  {
   "cell_type": "code",
   "execution_count": 16,
   "metadata": {},
   "outputs": [],
   "source": [
    "np.savetxt('predictions.txt', predictions, delimiter='\\n', fmt='%d')"
   ]
  }
 ],
 "metadata": {
  "kernelspec": {
   "display_name": "base",
   "language": "python",
   "name": "python3"
  },
  "language_info": {
   "codemirror_mode": {
    "name": "ipython",
    "version": 3
   },
   "file_extension": ".py",
   "mimetype": "text/x-python",
   "name": "python",
   "nbconvert_exporter": "python",
   "pygments_lexer": "ipython3",
   "version": "3.10.9"
  },
  "orig_nbformat": 4
 },
 "nbformat": 4,
 "nbformat_minor": 2
}
